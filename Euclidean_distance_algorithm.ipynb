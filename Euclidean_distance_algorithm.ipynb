{
  "nbformat": 4,
  "nbformat_minor": 0,
  "metadata": {
    "colab": {
      "provenance": [],
      "authorship_tag": "ABX9TyNalC2lL0FlYygzFH1ohL4d",
      "include_colab_link": true
    },
    "kernelspec": {
      "name": "python3",
      "display_name": "Python 3"
    },
    "language_info": {
      "name": "python"
    }
  },
  "cells": [
    {
      "cell_type": "markdown",
      "metadata": {
        "id": "view-in-github",
        "colab_type": "text"
      },
      "source": [
        "<a href=\"https://colab.research.google.com/github/Tahira82/Python_Algorithms/blob/main/Euclidean_distance_algorithm.ipynb\" target=\"_parent\"><img src=\"https://colab.research.google.com/assets/colab-badge.svg\" alt=\"Open In Colab\"/></a>"
      ]
    },
    {
      "cell_type": "code",
      "execution_count": 22,
      "metadata": {
        "colab": {
          "base_uri": "https://localhost:8080/"
        },
        "id": "YwKgjxWL2Xsz",
        "outputId": "e7bd0d78-d6fe-4de4-ec8e-d256288f91c6"
      },
      "outputs": [
        {
          "output_type": "stream",
          "name": "stdout",
          "text": [
            "The minimum euclidean distance between target and all points is  7.280109889280518 and point with minimum distance is ( 3 , 5 )\n",
            "enter target point in format: x,y 2,3\n",
            "enter the size of list of other points 5\n",
            "enter all points one by one in format: x,y 3,5\n",
            "enter all points one by one in format: x,y 6,8\n",
            "enter all points one by one in format: x,y 8,6\n",
            "enter all points one by one in format: x,y 5,2\n",
            "enter all points one by one in format: x,y 9,1\n",
            "The minimum euclidean distance between target and all points is  7.280109889280518 and point with minimum distance is ( 3 , 5 )\n"
          ]
        }
      ],
      "source": [
        "\"\"\" Method to find shortest and largest Euclidean distance between Target point and all points in a list \"\"\"\n",
        "# input: 2D Target point , List of 2D Points\n",
        "# output: Shortest distance, point with shortest distance.\n",
        "\n",
        "import math\n",
        "import numpy as np\n",
        "\n",
        "class Point:\n",
        "  def __init__(self, x_point, y_point):\n",
        "    self.x = x_point\n",
        "    self.y = y_point\n",
        "\n",
        "def euclidean_distance(T, P):\n",
        "  dist = np.array([])\n",
        "  if len(P) < 1:\n",
        "    return -1, -1\n",
        "  for point in P:\n",
        "    dist = np.append(dist, math.sqrt((point.x - T.x)**2 + (point.y - T.y)**2))\n",
        "  smallest = np.max(dist)\n",
        "  index_min = np.argmin(dist)\n",
        "  largest = np.min(dist)\n",
        "  return smallest, P[index_min]\n",
        "\n",
        "# Example\n",
        "T = Point(2,3)\n",
        "P = [Point(3,5), Point(6,8), Point(8,6), Point(5,2), Point(9,1)]\n",
        "s_num, point = euclidean_distance(T, P)\n",
        "print('The minimum euclidean distance between target and all points is ', s_num,\n",
        "      'and point with minimum distance is (',point.x, ',', point.y,')')\n",
        "\n",
        "# To get input from user\n",
        "target = tuple(input('enter target point in format: x,y ').split(','))\n",
        "T = Point(int(target[0]), int(target[1]))\n",
        "n = int(input('enter the size of list of other points '))\n",
        "P = []\n",
        "for i in range(0, n):\n",
        "  point = tuple(input('enter all points one by one in format: x,y ').split(','))\n",
        "  P.append(Point(int(point[0]), int(point[1])))\n",
        "u_s_num, u_point = euclidean_distance(T, P)\n",
        "print('The minimum euclidean distance between target and all points is ', u_s_num,\n",
        "      'and point with minimum distance is (',u_point.x, ',', u_point.y,')')"
      ]
    },
    {
      "cell_type": "code",
      "source": [
        "# Using only numpy\n",
        "#benefits: Vectorization, broadcasting, efficient\n",
        "import numpy as np\n",
        "\n",
        "def E_D(T, P):\n",
        "  #for point in P:\n",
        "  sub_points = np.subtract(P, T)\n",
        "  sq_points = np.square(sub_points)\n",
        "  sum_points = np.sum(sq_points, axis = 1)\n",
        "  dist = np.sqrt(sum_points)\n",
        "  smallest = np.max(dist)\n",
        "  index_min = np.argmin(dist)\n",
        "  largest = np.min(dist)\n",
        "  return smallest, P[index_min]\n",
        "\n",
        "T = np.array([2,3])\n",
        "P = np.array([[3,5],[6,8],[8,6],[5,2],[9,1]])\n",
        "s_num, point = E_D(T, P)\n",
        "print('The minimum euclidean distance between target and all points is ', s_num,\n",
        "      'and point with minimum distance is (',point[0], ',', point[1],')')\n",
        "\n"
      ],
      "metadata": {
        "colab": {
          "base_uri": "https://localhost:8080/"
        },
        "id": "8ONGDFi0gFqA",
        "outputId": "92f8bb2e-3e71-4b0d-9232-6821abf0f825"
      },
      "execution_count": 32,
      "outputs": [
        {
          "output_type": "stream",
          "name": "stdout",
          "text": [
            "The minimum euclidean distance between target and all points is  7.280109889280518 and point with minimum distance is ( 3 , 5 )\n"
          ]
        }
      ]
    }
  ]
}